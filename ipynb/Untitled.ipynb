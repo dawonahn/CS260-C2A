{
 "cells": [
  {
   "cell_type": "code",
   "execution_count": 1,
   "id": "de16bfb8-1d96-40d8-a714-1590c3aa6392",
   "metadata": {},
   "outputs": [],
   "source": [
    "import ot\n",
    "import numpy as np\n",
    "import pandas as pd\n",
    "\n",
    "\n",
    "import torch\n",
    "import torch.nn as nn\n",
    "import torch.optim as optim\n",
    "\n",
    "import seaborn as sns\n",
    "import matplotlib.pyplot as plt\n",
    "from PIL import Image\n",
    "\n",
    "from ot import *"
   ]
  },
  {
   "cell_type": "code",
   "execution_count": 2,
   "id": "c9019839-f037-4b21-a956-19d3c76df471",
   "metadata": {},
   "outputs": [],
   "source": [
    "from torch.nn.utils.weight_norm import weight_norm"
   ]
  },
  {
   "cell_type": "code",
   "execution_count": 32,
   "id": "ea300a06-67a1-44a7-a57d-526658387b34",
   "metadata": {},
   "outputs": [],
   "source": [
    "\n",
    "class FCNet(nn.Module):\n",
    "    \"\"\"Simple class for non-linear fully connect network\n",
    "    \"\"\"\n",
    "    def __init__(self, dims, act='ReLU', dropout=0):\n",
    "        super(FCNet, self).__init__()\n",
    "\n",
    "        layers = []\n",
    "        for i in range(len(dims)-2):\n",
    "            in_dim = dims[i]\n",
    "            out_dim = dims[i+1]\n",
    "            if 0 < dropout:\n",
    "                layers.append(nn.Dropout(dropout))\n",
    "            layers.append(weight_norm(nn.Linear(in_dim, out_dim), dim=None))\n",
    "            if ''!=act:\n",
    "                layers.append(getattr(nn, act)())\n",
    "        if 0 < dropout:\n",
    "            layers.append(nn.Dropout(dropout))\n",
    "        layers.append(weight_norm(nn.Linear(dims[-2], dims[-1]), dim=None))\n",
    "        if ''!=act:\n",
    "            layers.append(getattr(nn, act)())\n",
    "\n",
    "        self.main = nn.Sequential(*layers)\n",
    "\n",
    "    def forward(self, x):\n",
    "        return self.main(x)\n"
   ]
  },
  {
   "cell_type": "code",
   "execution_count": 33,
   "id": "b34f67bd-d94b-43cc-89d8-0964dfa9ed07",
   "metadata": {},
   "outputs": [],
   "source": [
    "class MLP(torch.nn.Module):\n",
    "    def __init__(self, input_dim, output_dim):\n",
    "        super(MLP, self).__init__()\n",
    "        hidden1 = int(input_dim/2)\n",
    "        hidden2 = int(input_dim/2)\n",
    "        self.layer = torch.nn.Linear(input_dim, hidden1)    \n",
    "        self.layer2 = torch.nn.Linear(hidden1, hidden2)    \n",
    "        self.layer3 = torch.nn.Linear(hidden2, output_dim)     \n",
    "        self.batchnorm1 = torch.nn.BatchNorm1d(hidden1)\n",
    "        self.batchnorm2 = torch.nn.BatchNorm1d(hidden2)\n",
    "    def forward(self, x):\n",
    "        x = torch.relu(self.layer(x))\n",
    "        x = self.batchnorm1(x)\n",
    "        x = torch.relu(self.layer2(x))\n",
    "        x = self.batchnorm2(x)\n",
    "        outputs = torch.relu(self.layer3(x))\n",
    "        return outputs"
   ]
  },
  {
   "cell_type": "code",
   "execution_count": 34,
   "id": "0e0b3662-f557-40c2-b21d-99fbc83f0fa1",
   "metadata": {},
   "outputs": [],
   "source": [
    "device = 'cuda:2'"
   ]
  },
  {
   "cell_type": "code",
   "execution_count": 35,
   "id": "e9c8f4f9-8187-4e6a-8eb2-3d61474648f0",
   "metadata": {
    "tags": []
   },
   "outputs": [
    {
     "name": "stdout",
     "output_type": "stream",
     "text": [
      "(13633, 768) (13633, 512)\n"
     ]
    }
   ],
   "source": [
    "# embedding_path = '/data/dahn017/KDD23/datasets/politifact/'\n",
    "embedding_path = '/data/dahn017/KDD23/datasets/fakeddit/'\n",
    "\n",
    "text_embed = np.load(f'{embedding_path}/pretrained/text_sbert_embeds.npy')\n",
    "img_embed = np.load(f'{embedding_path}/pretrained/img_clip_embeds.npy')\n",
    "print(text_embed.shape, img_embed.shape)\n",
    "\n",
    "text_embed = np.nan_to_num(text_embed)\n",
    "img_embed = np.nan_to_num(img_embed)\n",
    "# text_embed = torch.FloatTensor(text_embed[:10]).to(device)\n",
    "# img_embed = torch.FloatTensor(img_embed[:10]).to(device)\n",
    "text_embed = torch.FloatTensor(text_embed).to(device)\n",
    "img_embed = torch.FloatTensor(img_embed).to(device)"
   ]
  },
  {
   "cell_type": "code",
   "execution_count": 36,
   "id": "804b6b31-e17c-4c69-be28-ea13e90db328",
   "metadata": {},
   "outputs": [],
   "source": [
    "N = text_embed.shape[0]\n",
    "bs = 256\n",
    "dim1 = text_embed.shape[-1]\n",
    "dim2 = img_embed.shape[-1]\n",
    "output_dim = 64\n",
    "k = 2\n",
    "act='ReLU'\n",
    "# dropout = 0.3\n",
    "dropout = 0"
   ]
  },
  {
   "cell_type": "code",
   "execution_count": 37,
   "id": "ab55d3ab-6494-48a8-8814-5da937e12496",
   "metadata": {},
   "outputs": [],
   "source": [
    "# h_out = 32\n",
    "# h_dim = 32\n",
    "# k = 3 # ?\n",
    "# h_mat = nn.Parameter(torch.Tensor(1, output_dim * (k-2), 1, output_dim * (k-2)).normal_())\n",
    "# h_bias = nn.Parameter(torch.Tensor(1, output_dim * (k-2), 1, 1).normal_())\n",
    "# # h_net = weight_norm(nn.Linear(h_dim * self.k, h_out), dim=None)\n",
    "# print(h_mat.shape, h_bias.shape)"
   ]
  },
  {
   "cell_type": "code",
   "execution_count": 52,
   "id": "fc1bd01b-efd2-4ea6-ac9b-afe0f7e8fec5",
   "metadata": {},
   "outputs": [],
   "source": [
    "device = 'cuda:2'\n",
    "# mlp1 = FCNet([dim1, output_dim * k, output_dim * (k-2)], act=act, dropout=dropout).to(device)\n",
    "# mlp2 = FCNet([dim2, output_dim * k, output_dim * (k-2)], act=act, dropout=dropout).to(device)\n",
    "mlp1 = FCNet([dim1, output_dim * k], act=act, dropout=dropout).to(device)\n",
    "mlp2 = FCNet([dim2, output_dim * k], act=act, dropout=dropout).to(device)"
   ]
  },
  {
   "cell_type": "code",
   "execution_count": 53,
   "id": "4b7bf3c9-fd78-4dd3-be0e-357ca86ef51c",
   "metadata": {},
   "outputs": [],
   "source": [
    "batchs = np.arange(bs, N, bs)"
   ]
  },
  {
   "cell_type": "code",
   "execution_count": 54,
   "id": "6cba97d0-ad7b-4feb-9c3e-61d9ac4e77aa",
   "metadata": {},
   "outputs": [],
   "source": [
    "opt = optim.Adam(list(mlp1.parameters()) + list(mlp2.parameters()), lr=0.0001, weight_decay=0.001)"
   ]
  },
  {
   "cell_type": "code",
   "execution_count": 55,
   "id": "8abb6b07-34c9-40ef-860b-afb0d7a2474e",
   "metadata": {},
   "outputs": [],
   "source": [
    "n_iter = 30"
   ]
  },
  {
   "cell_type": "code",
   "execution_count": 56,
   "id": "254286e0-5abf-4e2a-afb5-8a8d57db6d7a",
   "metadata": {},
   "outputs": [],
   "source": [
    "from tqdm import tqdm\n",
    "from tqdm import trange"
   ]
  },
  {
   "cell_type": "code",
   "execution_count": 58,
   "id": "19965641-d673-4dd0-b96a-b3cadd7e1a42",
   "metadata": {
    "tags": []
   },
   "outputs": [
    {
     "name": "stdout",
     "output_type": "stream",
     "text": [
      "Iteration 1 || alignment loss: 86.7258\n",
      "Iteration 2 || alignment loss: 90.7499\n",
      "Iteration 3 || alignment loss: 95.9050\n",
      "Iteration 4 || alignment loss: 99.4334\n",
      "Iteration 5 || alignment loss: 100.4883\n",
      "Iteration 6 || alignment loss: 102.7552\n",
      "Iteration 7 || alignment loss: 101.8100\n",
      "Iteration 8 || alignment loss: 102.2064\n",
      "Iteration 9 || alignment loss: 102.0032\n",
      "Iteration 10 || alignment loss: 97.4733\n",
      "Iteration 11 || alignment loss: 99.9248\n",
      "Iteration 12 || alignment loss: 95.2142\n",
      "Iteration 13 || alignment loss: 98.0639\n",
      "Iteration 14 || alignment loss: 99.8903\n",
      "Iteration 15 || alignment loss: 102.8307\n",
      "Iteration 16 || alignment loss: 101.1977\n",
      "Iteration 17 || alignment loss: 101.5341\n",
      "Iteration 18 || alignment loss: 106.5417\n",
      "Iteration 19 || alignment loss: 102.6024\n",
      "Iteration 20 || alignment loss: 104.6160\n",
      "Iteration 21 || alignment loss: 104.3327\n",
      "Iteration 22 || alignment loss: 101.2290\n",
      "Iteration 23 || alignment loss: 103.2335\n",
      "Iteration 24 || alignment loss: 106.3114\n",
      "Iteration 25 || alignment loss: 105.1370\n",
      "Iteration 26 || alignment loss: 101.3072\n",
      "Iteration 27 || alignment loss: 102.7958\n",
      "Iteration 28 || alignment loss: 106.0591\n",
      "Iteration 29 || alignment loss: 100.4471\n"
     ]
    }
   ],
   "source": [
    "\n",
    "for i in range(1, n_iter):\n",
    "    old_b = 0\n",
    "    for batch in batchs:\n",
    "        opt.zero_grad()\n",
    "        loss = torch.zeros(1).to(device)\n",
    "        batch_x = text_embed[old_b : batch]\n",
    "        batch_y = img_embed[old_b : batch]\n",
    "        x = mlp1(batch_x).reshape(-1, output_dim * (k), 1)\n",
    "        y = mlp2(batch_y).reshape(-1, output_dim * (k), 1)\n",
    "\n",
    "        cos_distance = cost_matrix_batch_torch(x.transpose(2, 1), y.transpose(2, 1))\n",
    "        cos_distance = cos_distance.transpose(1,2)\n",
    "\n",
    "        # logits = torch.einsum('xhyk,bvk,bqk->bhvq', (h_mat, x, y)) + h_bias\n",
    "\n",
    "        beta = 0.1\n",
    "        min_score = cos_distance.min()\n",
    "        max_score = cos_distance.max()\n",
    "        threshold = min_score + beta * (max_score - min_score)\n",
    "        cos_dist = torch.nn.functional.relu(cos_distance - threshold)\n",
    "\n",
    "        wd = - IPOT_distance_torch_batch_uniform(C=cos_dist, bs=x.size(0), n=x.size(1), m=y.size(1), iteration=30)\n",
    "        gwd = GW_distance_uniform(x.transpose(2,1), y.transpose(2,1))\n",
    "\n",
    "        # twd = .1 * torch.mean(gwd) + .1 * torch.mean(wd)\n",
    "        twd = .5 * torch.sum(gwd) + .5 * torch.sum(wd)\n",
    "        loss = loss + twd\n",
    "        # loss = loss - torch.bmm(x.transpose(2,1), y).sum() * 0.01\n",
    "        # loss = loss + torch.norm(x - y) * 0.1\n",
    "        old_b = batch\n",
    "        loss.backward()\n",
    "        opt.step()\n",
    "    print(f\"Iteration {i} || alignment loss: {loss.item():.4f}\")\n",
    "    \n"
   ]
  },
  {
   "cell_type": "code",
   "execution_count": 44,
   "id": "b7baea19-3392-44cd-9e3e-d793f85af201",
   "metadata": {},
   "outputs": [],
   "source": [
    "y_all = np.load(f'{embedding_path}/y_all.npy')[:10]\n",
    "# y_all = np.load(f'{embedding_path}/y_all.npy')"
   ]
  },
  {
   "cell_type": "code",
   "execution_count": 45,
   "id": "05906192-6e3b-4a4f-8f30-53b9a2b56814",
   "metadata": {},
   "outputs": [],
   "source": [
    "x = mlp1(text_embed)[:10]\n",
    "y = mlp2(img_embed)[:10]\n",
    "# x = mlp1(text_embed)\n",
    "# y = mlp2(img_embed)"
   ]
  },
  {
   "cell_type": "code",
   "execution_count": 46,
   "id": "17e6a7c1-d02e-4846-be90-83a5c0ce486f",
   "metadata": {},
   "outputs": [],
   "source": [
    "fake = y_all == 0\n",
    "true = y_all == 1"
   ]
  },
  {
   "cell_type": "code",
   "execution_count": 47,
   "id": "f9992a4b-89bb-486b-adab-c4af12c089b6",
   "metadata": {},
   "outputs": [],
   "source": [
    "sorted_x = np.vstack([x[true].cpu().detach().numpy(), x[fake].cpu().detach().numpy()])\n",
    "sorted_y = np.vstack([y[true].cpu().detach().numpy(), y[fake].cpu().detach().numpy()])"
   ]
  },
  {
   "cell_type": "code",
   "execution_count": 48,
   "id": "01d3e1c3-b50d-44da-926e-bbc44f1c8c20",
   "metadata": {},
   "outputs": [],
   "source": [
    "# text_embed2 = np.vstack([text_embed[true].cpu().detach().numpy(), text_embed[fake].cpu().detach().numpy()])\n",
    "# img_embed2 = np.vstack([img_embed[true].cpu().detach().numpy(), img_embed[fake].cpu().detach().numpy()])\n",
    "# \n",
    "text_embed2 = np.vstack([text_embed[:10][true].cpu().detach().numpy(), text_embed[:10][fake].cpu().detach().numpy()])\n",
    "img_embed2 = np.vstack([img_embed[:10][true].cpu().detach().numpy(), img_embed[:10][fake].cpu().detach().numpy()])"
   ]
  },
  {
   "cell_type": "code",
   "execution_count": 49,
   "id": "7ecebed6-b2d0-48d7-978c-871a2b0536bf",
   "metadata": {},
   "outputs": [],
   "source": [
    "import matplotlib.pyplot as plt\n",
    "import seaborn as sns"
   ]
  },
  {
   "cell_type": "code",
   "execution_count": 50,
   "id": "57bf9502-93f3-4472-b557-02edb37858c8",
   "metadata": {},
   "outputs": [
    {
     "data": {
      "text/plain": [
       "<AxesSubplot: >"
      ]
     },
     "execution_count": 50,
     "metadata": {},
     "output_type": "execute_result"
    },
    {
     "data": {
      "image/png": "[encoded data removed]",
      "text/plain": [
       "<Figure size 720x216 with 4 Axes>"
      ]
     },
     "metadata": {
      "needs_background": "light"
     },
     "output_type": "display_data"
    }
   ],
   "source": [
    "plt.figure(figsize=(10,3))\n",
    "plt.subplot(1, 2, 1)\n",
    "sns.heatmap((text_embed2 @ text_embed2.T))\n",
    "plt.subplot(1, 2, 2)\n",
    "sns.heatmap((sorted_x @ sorted_x.T))"
   ]
  },
  {
   "cell_type": "code",
   "execution_count": 51,
   "id": "48d0333d-d384-4572-8b09-8f9b2bdbe55c",
   "metadata": {},
   "outputs": [
    {
     "data": {
      "text/plain": [
       "<AxesSubplot: >"
      ]
     },
     "execution_count": 51,
     "metadata": {},
     "output_type": "execute_result"
    },
    {
     "data": {
      "image/png": "[encoded data removed]",
      "text/plain": [
       "<Figure size 720x216 with 4 Axes>"
      ]
     },
     "metadata": {
      "needs_background": "light"
     },
     "output_type": "display_data"
    }
   ],
   "source": [
    "plt.figure(figsize=(10,3))\n",
    "plt.subplot(1, 2, 1)\n",
    "sns.heatmap((img_embed2 @ img_embed2.T))\n",
    "plt.subplot(1, 2, 2)\n",
    "# sns.heatmap((sorted_y / sorted_y @ sorted_y.T))\n",
    "sns.heatmap((sorted_y @ sorted_y.T))"
   ]
  },
  {
   "cell_type": "code",
   "execution_count": 71,
   "id": "3cdd8834-28a2-4b53-9450-aa48d71c1431",
   "metadata": {},
   "outputs": [],
   "source": [
    "np.save(f'../outputs/got_text_sbert.npy', x.cpu().detach().numpy()  @ x.cpu().detach().numpy().T )\n",
    "np.save(f'../outputs/got_img_clip.npy', y.cpu().detach().numpy() @ y.cpu().detach().numpy().T)"
   ]
  },
  {
   "cell_type": "code",
   "execution_count": 72,
   "id": "831cb90b-1cd8-43f9-b815-30c985873817",
   "metadata": {},
   "outputs": [
    {
     "ename": "NameError",
     "evalue": "name 'graph_file1' is not defined",
     "output_type": "error",
     "traceback": [
      "\u001b[0;31m---------------------------------------------------------------------------\u001b[0m",
      "\u001b[0;31mNameError\u001b[0m                                 Traceback (most recent call last)",
      "Cell \u001b[0;32mIn[72], line 1\u001b[0m\n\u001b[0;32m----> 1\u001b[0m graph1 \u001b[38;5;241m=\u001b[39m np\u001b[38;5;241m.\u001b[39mload(\u001b[43mgraph_file1\u001b[49m)\n\u001b[1;32m      2\u001b[0m graph2 \u001b[38;5;241m=\u001b[39m np\u001b[38;5;241m.\u001b[39mload(graph_file2)\n",
      "\u001b[0;31mNameError\u001b[0m: name 'graph_file1' is not defined"
     ]
    }
   ],
   "source": [
    "graph1 = np.load(graph_file1)\n",
    "graph2 = np.load(graph_file2)"
   ]
  },
  {
   "cell_type": "code",
   "execution_count": null,
   "id": "77dafac6-8184-4ebb-bd0b-4ca10909948e",
   "metadata": {},
   "outputs": [],
   "source": [
    "# graph_file1 = f'./aligned_embeds/text_sbert.npy'\n",
    "# graph_file2 = f'./aligned_embeds/img_clip.npy'\n",
    "graph_file1 = f'./aligned_embeds/text_sbert_no.npy'\n",
    "graph_file2 = f'./aligned_embeds/img_clip_no.npy'"
   ]
  }
 ],
 "metadata": {
  "kernelspec": {
   "display_name": "tensor",
   "language": "python",
   "name": "tensor"
  },
  "language_info": {
   "codemirror_mode": {
    "name": "ipython",
    "version": 3
   },
   "file_extension": ".py",
   "mimetype": "text/x-python",
   "name": "python",
   "nbconvert_exporter": "python",
   "pygments_lexer": "ipython3",
   "version": "3.9.15"
  }
 },
 "nbformat": 4,
 "nbformat_minor": 5
}
