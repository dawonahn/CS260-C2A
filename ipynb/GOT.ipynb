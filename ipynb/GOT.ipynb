{
 "cells": [
  {
   "cell_type": "code",
   "execution_count": 1,
   "id": "a8816fbb-258b-4fc2-9068-804cf09dfb36",
   "metadata": {},
   "outputs": [],
   "source": [
    "import torch"
   ]
  },
  {
   "cell_type": "code",
   "execution_count": 2,
   "id": "263d3207-1672-4233-a2e8-349fc5fd635f",
   "metadata": {},
   "outputs": [],
   "source": [
    "def IPOT_torch(C, n, m, miu, nu, beta=0.5):\n",
    "    \n",
    "    # C is the distance matrix\n",
    "    # c: n by m\n",
    "    # miu: bs * n\n",
    "    \n",
    "    sigma = torch.ones(int(m), 1).float().cuda()/m # bs * m * 1\n",
    "    T = torch.ones(n, m).cuda()    # Transport plan\n",
    "    C = torch.exp(-C/beta).float() # Transport cost \n",
    "    for t in range(20):\n",
    "        T = C * T # n * m\n",
    "        for k in range(1):\n",
    "            delta = miu / torch.squeeze(torch.matmul(T, sigma))\n",
    "            sigma = torch.unsqueeze(nu,1) / torch.matmul(torch.transpose(T,0,1), torch.unsqueeze(delta,1))\n",
    "        T = torch.unsqueeze(delta,1) * T * sigma.transpose(1,0)\n",
    "    return T.detach()"
   ]
  },
  {
   "cell_type": "code",
   "execution_count": 3,
   "id": "01760044-c477-42ca-87a9-3ac86a300b1e",
   "metadata": {},
   "outputs": [
    {
     "ename": "TabError",
     "evalue": "inconsistent use of tabs and spaces in indentation (<ipython-input-3-5ac7e4e170c6>, line 4)",
     "output_type": "error",
     "traceback": [
      "\u001b[0;36m  Cell \u001b[0;32mIn[3], line 4\u001b[0;36m\u001b[0m\n\u001b[0;31m    return -distance\u001b[0m\n\u001b[0m    ^\u001b[0m\n\u001b[0;31mTabError\u001b[0m\u001b[0;31m:\u001b[0m inconsistent use of tabs and spaces in indentation\n"
     ]
    }
   ],
   "source": [
    "def IPOT_distance_torch(C, n, m, miu, nu):\n",
    "    T = IPOT_torch(C, n, m, miu, nu)\n",
    "    distance = torch.trace(torch.mm(torch.transpose(C,0,1), T))\n",
    "\treturn -distance"
   ]
  },
  {
   "cell_type": "markdown",
   "id": "e56b38a5-d467-4c34-9d69-3dd831ef7df3",
   "metadata": {},
   "source": [
    "# Implementation"
   ]
  },
  {
   "cell_type": "code",
   "execution_count": 4,
   "id": "2aeab239-ef55-4bca-9644-87e8ad74101c",
   "metadata": {},
   "outputs": [],
   "source": [
    "from ot import *\n",
    "import torch.nn as nn"
   ]
  },
  {
   "cell_type": "code",
   "execution_count": 94,
   "id": "2d5ae2b2-01e2-4fba-8ee8-a9915f232431",
   "metadata": {},
   "outputs": [],
   "source": [
    "# source x target y\n",
    "x = torch.randn(128,36,1024)\n",
    "y = torch.randn(128,14,1024)\n",
    "\n",
    "x = torch.randn(128,512,1)\n",
    "y = torch.randn(128,768,1)\n",
    "# x = torch.randn(128,1, 512)\n",
    "# y = torch.randn(128,1, 768)"
   ]
  },
  {
   "cell_type": "code",
   "execution_count": 95,
   "id": "51c3e421-41a1-46df-9d95-6c32bad8cf2f",
   "metadata": {},
   "outputs": [],
   "source": [
    "# self.v_net = FCNet([v_dim, h_dim * self.k], act=act, dropout=dropout[0])\n",
    "# self.q_net = FCNet([q_dim, h_dim * self.k], act=act, dropout=dropout[0])"
   ]
  },
  {
   "cell_type": "code",
   "execution_count": 96,
   "id": "91237d3b-2eda-49ba-922a-dd5819ce9df1",
   "metadata": {},
   "outputs": [
    {
     "name": "stdout",
     "output_type": "stream",
     "text": [
      "after:  torch.Size([128, 768, 512])\n",
      "before:  torch.Size([128, 512, 768])\n"
     ]
    }
   ],
   "source": [
    "cos_distance = cost_matrix_batch_torch(x.transpose(2, 1), y.transpose(2, 1))\n",
    "print(\"after: \", cos_distance.shape)\n",
    "cos_distance = cos_distance.transpose(1,2)\n",
    "print(\"before: \", cos_distance.shape)"
   ]
  },
  {
   "cell_type": "code",
   "execution_count": 97,
   "id": "7dcbe123-863b-4b0b-bf40-4cf46910aa40",
   "metadata": {},
   "outputs": [
    {
     "name": "stdout",
     "output_type": "stream",
     "text": [
      "torch.Size([1, 32, 1, 96]) torch.Size([1, 32, 1, 1])\n"
     ]
    }
   ],
   "source": [
    "h_out = 32\n",
    "h_dim = 32\n",
    "k = 3 # ?\n",
    "h_mat = nn.Parameter(torch.Tensor(1, h_out, 1, h_dim * k).normal_())\n",
    "h_bias = nn.Parameter(torch.Tensor(1, h_out, 1, 1).normal_())\n",
    "# h_net = weight_norm(nn.Linear(h_dim * self.k, h_out), dim=None)\n",
    "print(h_mat.shape, h_bias.shape)"
   ]
  },
  {
   "cell_type": "code",
   "execution_count": 98,
   "id": "85d7da63-8a13-4639-a223-888074dc1f01",
   "metadata": {},
   "outputs": [
    {
     "name": "stdout",
     "output_type": "stream",
     "text": [
      "torch.Size([128, 32, 512, 768])\n"
     ]
    }
   ],
   "source": [
    "logits = torch.einsum('xhyk,bvk,bqk->bhvq', (h_mat, x, y)) + h_bias\n",
    "print(logits.shape)"
   ]
  },
  {
   "cell_type": "code",
   "execution_count": 99,
   "id": "f0a78576-bcf8-4eda-921a-8a32a7fb2249",
   "metadata": {},
   "outputs": [],
   "source": [
    "beta = 0.1\n",
    "min_score = cos_distance.min()\n",
    "max_score = cos_distance.max()\n",
    "threshold = min_score + beta * (max_score - min_score)\n",
    "cos_dist = torch.nn.functional.relu(cos_distance - threshold)"
   ]
  },
  {
   "cell_type": "code",
   "execution_count": 100,
   "id": "8fe923e8-f514-444c-a988-1773bc995c6f",
   "metadata": {},
   "outputs": [
    {
     "name": "stdout",
     "output_type": "stream",
     "text": [
      "128 512 768\n"
     ]
    }
   ],
   "source": [
    "print(x.size(0), x.size(1), y.size(1))"
   ]
  },
  {
   "cell_type": "code",
   "execution_count": 101,
   "id": "e28f374f-fe21-4f5f-93ce-c5af18d7454b",
   "metadata": {},
   "outputs": [
    {
     "name": "stdout",
     "output_type": "stream",
     "text": [
      "torch.Size([128, 1])\n"
     ]
    }
   ],
   "source": [
    "wd = - IPOT_distance_torch_batch_uniform(C=cos_dist, bs=x.size(0), n=x.size(1), m=y.size(1), iteration=30)\n",
    "print(wd.shape)"
   ]
  },
  {
   "cell_type": "code",
   "execution_count": 102,
   "id": "b9b1fd64-0ff3-42d1-bca6-84869aa381ab",
   "metadata": {},
   "outputs": [],
   "source": [
    "gwd = GW_distance_uniform(x.transpose(2,1), y.transpose(2,1))"
   ]
  },
  {
   "cell_type": "code",
   "execution_count": 103,
   "id": "cd760eb5-b3c8-4e7c-a1b6-9eac8e75e256",
   "metadata": {},
   "outputs": [],
   "source": [
    "twd = .1 * torch.mean(gwd) + .1 * torch.mean(wd)"
   ]
  },
  {
   "cell_type": "markdown",
   "id": "64da11d7-145b-45e3-aed5-636dff16e493",
   "metadata": {},
   "source": [
    "### Wasserstein Distance"
   ]
  },
  {
   "cell_type": "code",
   "execution_count": 104,
   "id": "d2dc5802-c648-4713-803d-f7b5a1b4f131",
   "metadata": {},
   "outputs": [],
   "source": [
    "C=cos_dist\n",
    "bs=x.size(0)\n",
    "n=x.size(1)\n",
    "m=y.size(1)\n",
    "iteration=30"
   ]
  },
  {
   "cell_type": "code",
   "execution_count": 105,
   "id": "f3e6304d-926b-4c9c-83e1-c23adcde5a5f",
   "metadata": {},
   "outputs": [
    {
     "name": "stdout",
     "output_type": "stream",
     "text": [
      "sigma:  torch.Size([128, 768, 1])\n",
      "delta:  torch.Size([128, 512, 1])\n"
     ]
    }
   ],
   "source": [
    "print(\"sigma: \", sigma.shape)\n",
    "print(\"delta: \", delta.shape)"
   ]
  },
  {
   "cell_type": "code",
   "execution_count": 106,
   "id": "9fca2497-263d-4ccd-ab75-bb9e233a1b7c",
   "metadata": {
    "tags": []
   },
   "outputs": [],
   "source": [
    "# What is k?\n",
    "for t in range(iteration):\n",
    "    Q = A * T # bs * n * m\n",
    "    for k in range(1):\n",
    "        delta = 1 / (n * torch.bmm(Q, sigma))\n",
    "        a = torch.bmm(torch.transpose(Q, 1, 2), delta)\n",
    "        sigma = 1/ m * a\n",
    "    T = delta * Q * sigma.transpose(2, 1)\n"
   ]
  },
  {
   "cell_type": "markdown",
   "id": "cb570619-82e2-4037-8968-96419df56928",
   "metadata": {},
   "source": [
    "### Gromove-Wasserstein Distance"
   ]
  },
  {
   "cell_type": "code",
   "execution_count": 107,
   "id": "3599c9bf-42e9-4025-a404-0876d6b9a0f1",
   "metadata": {},
   "outputs": [
    {
     "name": "stdout",
     "output_type": "stream",
     "text": [
      "512 768 128 torch.Size([128, 512, 1]) torch.Size([128, 768, 1])\n"
     ]
    }
   ],
   "source": [
    "m = x.size(1)\n",
    "n = y.size(1)\n",
    "bs = x.size(0)\n",
    "p = (torch.ones(bs, m, 1)/m)\n",
    "q = (torch.ones(bs, n, 1)/n)\n",
    "\n",
    "print(m, n, bs, p.shape, q.shape)"
   ]
  },
  {
   "cell_type": "code",
   "execution_count": 108,
   "id": "1ac618f4-eebc-4db8-8b44-162a457d15e7",
   "metadata": {},
   "outputs": [
    {
     "name": "stdout",
     "output_type": "stream",
     "text": [
      "torch.Size([128, 512, 512]) torch.Size([128, 768, 768]) 128 768 512\n"
     ]
    }
   ],
   "source": [
    "Cs = cos_batch_torch(x.transpose(2,1), x.transpose(2,1))\n",
    "Ct = cos_batch_torch(y.transpose(2,1), y.transpose(2,1))\n",
    "# pdb.set_trace()\n",
    "bs = Cs.size(0)\n",
    "m = Ct.size(2)\n",
    "n = Cs.size(2)\n",
    "print(Cs.shape, Ct.shape, bs, m, n)"
   ]
  },
  {
   "cell_type": "code",
   "execution_count": 109,
   "id": "8fc045ad-7a2f-41e6-80cc-8b245a9e7808",
   "metadata": {},
   "outputs": [],
   "source": [
    "one_m = torch.ones(bs, m, 1)\n",
    "one_n = torch.ones(bs, n, 1)"
   ]
  },
  {
   "cell_type": "code",
   "execution_count": 112,
   "id": "5fe56d2a-05d8-4f1b-b864-f78cc600906e",
   "metadata": {},
   "outputs": [
    {
     "data": {
      "text/plain": [
       "torch.Size([128, 512, 512])"
      ]
     },
     "execution_count": 112,
     "metadata": {},
     "output_type": "execute_result"
    }
   ],
   "source": [
    "Cs.shape"
   ]
  },
  {
   "cell_type": "code",
   "execution_count": 111,
   "id": "683cdfbd-460f-4736-8c88-cddf343e3989",
   "metadata": {},
   "outputs": [
    {
     "data": {
      "text/plain": [
       "torch.Size([128, 512, 1])"
      ]
     },
     "execution_count": 111,
     "metadata": {},
     "output_type": "execute_result"
    }
   ],
   "source": [
    "torch.bmm(Cs**2, p).shape"
   ]
  },
  {
   "cell_type": "code",
   "execution_count": 114,
   "id": "cfee4338-c133-41bc-b18e-0a7c31de727f",
   "metadata": {},
   "outputs": [
    {
     "data": {
      "text/plain": [
       "torch.Size([128, 512, 768])"
      ]
     },
     "execution_count": 114,
     "metadata": {},
     "output_type": "execute_result"
    }
   ],
   "source": [
    "torch.bmm(torch.bmm(Cs**2, p), torch.transpose(one_m, 1, 2)).shape"
   ]
  },
  {
   "cell_type": "code",
   "execution_count": 118,
   "id": "56663246-ff9d-4fff-8360-d0e6c35eaa39",
   "metadata": {
    "tags": []
   },
   "outputs": [],
   "source": [
    "Cst = torch.bmm(torch.bmm(Cs**2, p), torch.transpose(one_m, 1, 2)) + \\\n",
    "        torch.bmm(one_n, torch.bmm(torch.transpose(q,1,2), torch.transpose(Ct**2, 1, 2))) # bs by n by m"
   ]
  },
  {
   "cell_type": "code",
   "execution_count": 121,
   "id": "b64fab24-b822-4c75-8dda-70c57b0519ad",
   "metadata": {},
   "outputs": [],
   "source": [
    "gamma = torch.bmm(p, q.transpose(2,1)) # outer product, init"
   ]
  },
  {
   "cell_type": "code",
   "execution_count": 123,
   "id": "7c44a6c2-92fc-4523-905c-f3db6c2171da",
   "metadata": {},
   "outputs": [
    {
     "data": {
      "text/plain": [
       "torch.Size([128, 512, 768])"
      ]
     },
     "execution_count": 123,
     "metadata": {},
     "output_type": "execute_result"
    }
   ],
   "source": [
    "gamma.shape"
   ]
  },
  {
   "cell_type": "code",
   "execution_count": 124,
   "id": "34a6defd-fea8-4a80-9028-ff6d600fb27b",
   "metadata": {},
   "outputs": [],
   "source": [
    "for i in range(iteration):\n",
    "    C_gamma = Cst - 2 * torch.bmm(torch.bmm(Cs, gamma), torch.transpose(Ct, 1, 2))"
   ]
  },
  {
   "cell_type": "code",
   "execution_count": 130,
   "id": "90ddfa68-b265-431c-b65b-f95b8d793a1a",
   "metadata": {},
   "outputs": [
    {
     "ename": "RuntimeError",
     "evalue": "Expected all tensors to be on the same device, but found at least two devices, cpu and cuda:0! (when checking argument for argument mat2 in method wrapper_bmm)",
     "output_type": "error",
     "traceback": [
      "\u001b[0;31m---------------------------------------------------------------------------\u001b[0m",
      "\u001b[0;31mRuntimeError\u001b[0m                              Traceback (most recent call last)",
      "Cell \u001b[0;32mIn[130], line 8\u001b[0m\n\u001b[1;32m      6\u001b[0m gamma \u001b[38;5;241m=\u001b[39m torch\u001b[38;5;241m.\u001b[39mbmm(p, q\u001b[38;5;241m.\u001b[39mtranspose(\u001b[38;5;241m2\u001b[39m,\u001b[38;5;241m1\u001b[39m)) \u001b[38;5;66;03m# outer product, init\u001b[39;00m\n\u001b[1;32m      7\u001b[0m \u001b[38;5;28;01mfor\u001b[39;00m i \u001b[38;5;129;01min\u001b[39;00m \u001b[38;5;28mrange\u001b[39m(iteration):\n\u001b[0;32m----> 8\u001b[0m     C_gamma \u001b[38;5;241m=\u001b[39m Cst \u001b[38;5;241m-\u001b[39m \u001b[38;5;241m2\u001b[39m \u001b[38;5;241m*\u001b[39m torch\u001b[38;5;241m.\u001b[39mbmm(\u001b[43mtorch\u001b[49m\u001b[38;5;241;43m.\u001b[39;49m\u001b[43mbmm\u001b[49m\u001b[43m(\u001b[49m\u001b[43mCs\u001b[49m\u001b[43m,\u001b[49m\u001b[43m \u001b[49m\u001b[43mgamma\u001b[49m\u001b[43m)\u001b[49m, torch\u001b[38;5;241m.\u001b[39mtranspose(Ct, \u001b[38;5;241m1\u001b[39m, \u001b[38;5;241m2\u001b[39m))\n\u001b[1;32m      9\u001b[0m     gamma \u001b[38;5;241m=\u001b[39m IPOT_torch_batch_uniform(C_gamma, bs, n, m, beta\u001b[38;5;241m=\u001b[39mbeta, iteration\u001b[38;5;241m=\u001b[39m\u001b[38;5;241m20\u001b[39m)\n\u001b[1;32m     10\u001b[0m Cgamma \u001b[38;5;241m=\u001b[39m Cst \u001b[38;5;241m-\u001b[39m \u001b[38;5;241m2\u001b[39m \u001b[38;5;241m*\u001b[39m torch\u001b[38;5;241m.\u001b[39mbmm(torch\u001b[38;5;241m.\u001b[39mbmm(Cs, gamma), torch\u001b[38;5;241m.\u001b[39mtranspose(Ct, \u001b[38;5;241m1\u001b[39m, \u001b[38;5;241m2\u001b[39m))\n",
      "\u001b[0;31mRuntimeError\u001b[0m: Expected all tensors to be on the same device, but found at least two devices, cpu and cuda:0! (when checking argument for argument mat2 in method wrapper_bmm)"
     ]
    }
   ],
   "source": [
    "one_m = torch.ones(bs, m, 1)\n",
    "one_n = torch.ones(bs, n, 1)\n",
    "\n",
    "Cst = torch.bmm(torch.bmm(Cs**2, p), torch.transpose(one_m, 1, 2)) + \\\n",
    "      torch.bmm(one_n, torch.bmm(torch.transpose(q,1,2), torch.transpose(Ct**2, 1, 2))) # bs by n by m\n",
    "gamma = torch.bmm(p, q.transpose(2,1)) # outer product, init\n",
    "for i in range(iteration):\n",
    "    C_gamma = Cst - 2 * torch.bmm(torch.bmm(Cs, gamma), torch.transpose(Ct, 1, 2))\n",
    "    gamma = IPOT_torch_batch_uniform(C_gamma, bs, n, m, beta=beta, iteration=20)\n",
    "Cgamma = Cst - 2 * torch.bmm(torch.bmm(Cs, gamma), torch.transpose(Ct, 1, 2))"
   ]
  },
  {
   "cell_type": "code",
   "execution_count": null,
   "id": "4fc9e8c3-5f96-4aec-bdfe-cddd9e26523c",
   "metadata": {},
   "outputs": [],
   "source": []
  }
 ],
 "metadata": {
  "kernelspec": {
   "display_name": "tensor",
   "language": "python",
   "name": "tensor"
  },
  "language_info": {
   "codemirror_mode": {
    "name": "ipython",
    "version": 3
   },
   "file_extension": ".py",
   "mimetype": "text/x-python",
   "name": "python",
   "nbconvert_exporter": "python",
   "pygments_lexer": "ipython3",
   "version": "3.9.15"
  }
 },
 "nbformat": 4,
 "nbformat_minor": 5
}
